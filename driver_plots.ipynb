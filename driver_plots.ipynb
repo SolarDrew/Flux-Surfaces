{
 "cells": [
  {
   "cell_type": "code",
   "execution_count": 1,
   "metadata": {
    "collapsed": false
   },
   "outputs": [],
   "source": [
    "import yt\n",
    "import yt.units as u\n",
    "import pysac.yt\n",
    "import matplotlib as mpl\n",
    "import matplotlib.pyplot as plt\n",
    "import numpy as np\n",
    "%matplotlib inline"
   ]
  },
  {
   "cell_type": "code",
   "execution_count": 2,
   "metadata": {
    "collapsed": false
   },
   "outputs": [],
   "source": [
    "l = 0\n",
    "#r0 = 0.09 * u.Mm\n",
    "r0 = 0.1 * u.Mm\n",
    "period = 120\n",
    "global t\n",
    "t = 0\n",
    "amp = 1.e4\n",
    "mu0 = 4.e-7 * np.pi * u.N / u.A**2\n",
    "\n",
    "\n",
    "def tdep():\n",
    "    if t < period / 2.0:\n",
    "        return np.sin(t* 2.0 * np.pi / period)\n",
    "    else:\n",
    "        return 0.0\n",
    "\n",
    "\n",
    "def _alfvenspeed(field, data):\n",
    "    bx, by, bz = data['mag_field_x_bg'], data['mag_field_y_bg'], data['mag_field_z_bg']\n",
    "    B = np.sqrt((bx**2 + by**2 + bz**2) / mu0)\n",
    "    return u.yt_array.YTArray(B / np.sqrt(data['density_bg']), B.units / np.sqrt(data['density_bg']).units)\n",
    "\n",
    "\n",
    "def _theta(field, data):\n",
    "    x, y = data['x'], data['y']\n",
    "    return u.yt_array.YTArray(np.arctan2(y, x), 'radian')\n",
    "\n",
    "\n",
    "def _r(field, data):\n",
    "    x, y = data['x'], data['y']\n",
    "    return u.yt_array.YTArray(np.sqrt(x**2 + y**2), 'm')\n",
    "\n",
    "\n",
    "def _v_theta(field, data):\n",
    "    v_A, r, theta = data['alfvenspeed'], data['r'] / r0, data['theta']\n",
    "    #return u.yt_array.YTArray(v_A * r * (1 - r**2) * np.exp(-(r**2)) * np.cos(l * theta) * tdep(), 'Mm/s')\n",
    "    return u.yt_array.YTArray(amp * r * (1 - r**2) * np.exp(-(r**2)) * np.cos(l * theta) * tdep(), 'm/s')\n",
    "\n",
    "\n",
    "def _v_r(field, data):\n",
    "    v_A, r, theta = data['alfvenspeed'], data['r'] / r0, data['theta']\n",
    "    #return u.yt_array.YTArray(v_A * l * (r / 2.0) * np.exp(-(r**2)) * np.sin(l * theta) * tdep(), 'Mm/s')\n",
    "    return u.yt_array.YTArray(amp * l * (r / 2.0) * np.exp(-(r**2)) * np.sin(l * theta) * tdep(), 'm/s')\n",
    "\n",
    "\n",
    "def _v_x(field, data):\n",
    "    u_r, u_th, theta = data['v_r'], data['v_theta'], data['theta']\n",
    "    return u.yt_array.YTArray((u_r * np.cos(theta)) - (u_th * np.sin(theta)), 'm/s')\n",
    "\n",
    "\n",
    "def _v_y(field, data):\n",
    "    u_r, u_th, theta = data['v_r'], data['v_theta'], data['theta']\n",
    "    return u.yt_array.YTArray((u_r * np.sin(theta)) + (u_th * np.cos(theta)), 'm/s')\n",
    "\n",
    "\n",
    "yt.add_field('alfvenspeed', function=_alfvenspeed, units='km/s')\n",
    "yt.add_field('theta', function=_theta, units='radian')\n",
    "yt.add_field('r', function=_r, units='m')\n",
    "yt.add_field('v_theta', function=_v_theta, units='km/s')\n",
    "yt.add_field('v_r', function=_v_r, units='km/s')\n",
    "yt.add_field('v_x', function=_v_x, units='km/s')\n",
    "yt.add_field('v_y', function=_v_y, units='km/s')"
   ]
  },
  {
   "cell_type": "code",
   "execution_count": 3,
   "metadata": {
    "collapsed": false
   },
   "outputs": [
    {
     "name": "stderr",
     "output_type": "stream",
     "text": [
      "yt : [WARNING  ] 2016-06-07 16:47:06,802 'field_units' was overridden by 'dataset_units/density_bg'\n",
      "yt : [WARNING  ] 2016-06-07 16:47:06,804 'field_units' was overridden by 'dataset_units/density_pert'\n",
      "yt : [WARNING  ] 2016-06-07 16:47:06,806 'field_units' was overridden by 'dataset_units/internal_energy_bg'\n",
      "yt : [WARNING  ] 2016-06-07 16:47:06,807 'field_units' was overridden by 'dataset_units/internal_energy_pert'\n",
      "yt : [WARNING  ] 2016-06-07 16:47:06,809 'field_units' was overridden by 'dataset_units/mag_field_x_bg'\n",
      "yt : [WARNING  ] 2016-06-07 16:47:06,811 'field_units' was overridden by 'dataset_units/mag_field_x_pert'\n",
      "yt : [WARNING  ] 2016-06-07 16:47:06,812 'field_units' was overridden by 'dataset_units/mag_field_y_bg'\n",
      "yt : [WARNING  ] 2016-06-07 16:47:06,813 'field_units' was overridden by 'dataset_units/mag_field_y_pert'\n",
      "yt : [WARNING  ] 2016-06-07 16:47:06,815 'field_units' was overridden by 'dataset_units/mag_field_z_bg'\n",
      "yt : [WARNING  ] 2016-06-07 16:47:06,816 'field_units' was overridden by 'dataset_units/mag_field_z_pert'\n",
      "yt : [WARNING  ] 2016-06-07 16:47:06,820 'field_units' was overridden by 'dataset_units/velocity_x'\n",
      "yt : [WARNING  ] 2016-06-07 16:47:06,822 'field_units' was overridden by 'dataset_units/velocity_y'\n",
      "yt : [WARNING  ] 2016-06-07 16:47:06,823 'field_units' was overridden by 'dataset_units/velocity_z'\n",
      "yt : [INFO     ] 2016-06-07 16:47:06,842 Parameters: current_time              = 0.0\n",
      "yt : [INFO     ] 2016-06-07 16:47:06,843 Parameters: domain_dimensions         = [128 128 128]\n",
      "yt : [INFO     ] 2016-06-07 16:47:06,845 Parameters: domain_left_edge          = [-1000000. -1000000.        0.]\n",
      "yt : [INFO     ] 2016-06-07 16:47:06,846 Parameters: domain_right_edge         = [ 1000000.   1000000.   1587786.3]\n",
      "yt : [INFO     ] 2016-06-07 16:47:06,847 Parameters: cosmological_simulation   = 0.0\n"
     ]
    }
   ],
   "source": [
    "#thisfile = yt.load('/data/sm1ajl/mhs_atmosphere/drew_model/drew_model.gdf')\n",
    "#thisfile = yt.load('/fastdata/sm1ajl/Flux-Surfaces/gdf/m0_p120-0_0-5_0-5/*00001.gdf')\n",
    "#thisfile = yt.load('/data/sm1ajl/mhs_atmosphere/drew_paper1/drew_paper1.gdf')\n",
    "thisfile = yt.load('/data/sm1ajl/mhs_atmosphere/mfe_setup/mfe_setup.gdf')"
   ]
  },
  {
   "cell_type": "code",
   "execution_count": 4,
   "metadata": {
    "collapsed": false
   },
   "outputs": [
    {
     "name": "stdout",
     "output_type": "stream",
     "text": [
      "0.0\n",
      "0.0\n",
      "-274.0\n"
     ]
    },
    {
     "ename": "KeyError",
     "evalue": "'gravity3'",
     "output_type": "error",
     "traceback": [
      "\u001b[1;31m---------------------------------------------------------------------------\u001b[0m",
      "\u001b[1;31mKeyError\u001b[0m                                  Traceback (most recent call last)",
      "\u001b[1;32m<ipython-input-4-9a19c282f8ce>\u001b[0m in \u001b[0;36m<module>\u001b[1;34m()\u001b[0m\n\u001b[0;32m      2\u001b[0m \u001b[1;32mprint\u001b[0m \u001b[0mthisfile\u001b[0m\u001b[1;33m.\u001b[0m\u001b[0mparameters\u001b[0m\u001b[1;33m[\u001b[0m\u001b[1;34m'gravity1'\u001b[0m\u001b[1;33m]\u001b[0m\u001b[1;33m\u001b[0m\u001b[0m\n\u001b[0;32m      3\u001b[0m \u001b[1;32mprint\u001b[0m \u001b[0mthisfile\u001b[0m\u001b[1;33m.\u001b[0m\u001b[0mparameters\u001b[0m\u001b[1;33m[\u001b[0m\u001b[1;34m'gravity2'\u001b[0m\u001b[1;33m]\u001b[0m\u001b[1;33m\u001b[0m\u001b[0m\n\u001b[1;32m----> 4\u001b[1;33m \u001b[1;32mprint\u001b[0m \u001b[0mthisfile\u001b[0m\u001b[1;33m.\u001b[0m\u001b[0mparameters\u001b[0m\u001b[1;33m[\u001b[0m\u001b[1;34m'gravity3'\u001b[0m\u001b[1;33m]\u001b[0m\u001b[1;33m\u001b[0m\u001b[0m\n\u001b[0m\u001b[0;32m      5\u001b[0m \u001b[1;33m\u001b[0m\u001b[0m\n\u001b[0;32m      6\u001b[0m \u001b[1;32mprint\u001b[0m \u001b[0mthisfile\u001b[0m\u001b[1;33m.\u001b[0m\u001b[0mindex\u001b[0m\u001b[1;33m.\u001b[0m\u001b[0mgrids\u001b[0m\u001b[1;33m[\u001b[0m\u001b[1;36m0\u001b[0m\u001b[1;33m]\u001b[0m\u001b[1;33m[\u001b[0m\u001b[1;34m'density_bg'\u001b[0m\u001b[1;33m]\u001b[0m\u001b[1;33m.\u001b[0m\u001b[0mmin\u001b[0m\u001b[1;33m(\u001b[0m\u001b[1;33m)\u001b[0m\u001b[1;33m,\u001b[0m \u001b[0mthisfile\u001b[0m\u001b[1;33m.\u001b[0m\u001b[0mindex\u001b[0m\u001b[1;33m.\u001b[0m\u001b[0mgrids\u001b[0m\u001b[1;33m[\u001b[0m\u001b[1;36m0\u001b[0m\u001b[1;33m]\u001b[0m\u001b[1;33m[\u001b[0m\u001b[1;34m'density_bg'\u001b[0m\u001b[1;33m]\u001b[0m\u001b[1;33m.\u001b[0m\u001b[0mmax\u001b[0m\u001b[1;33m(\u001b[0m\u001b[1;33m)\u001b[0m\u001b[1;33m\u001b[0m\u001b[0m\n",
      "\u001b[1;31mKeyError\u001b[0m: 'gravity3'"
     ]
    }
   ],
   "source": [
    "print thisfile.parameters['gravity0']\n",
    "print thisfile.parameters['gravity1']\n",
    "print thisfile.parameters['gravity2']\n",
    "print thisfile.parameters['gravity3']\n",
    "\n",
    "print thisfile.index.grids[0]['density_bg'].min(), thisfile.index.grids[0]['density_bg'].max()\n",
    "total = thisfile.index.grids[0]['density_bg'] + thisfile.index.grids[0]['density_pert']\n",
    "print total.min(), total.max()\n",
    "print thisfile.index.grids[0]['alfvenspeed'].min(), thisfile.index.grids[0]['alfvenspeed'].max()\n",
    "print thisfile.index.grids[0]['v_theta'].min(), thisfile.index.grids[0]['v_theta'].max()\n",
    "#t = 30"
   ]
  },
  {
   "cell_type": "code",
   "execution_count": null,
   "metadata": {
    "collapsed": false
   },
   "outputs": [],
   "source": [
    "myplot = yt.SlicePlot(thisfile, 'x', 'magnetic_field_strength', axes_unit='Mm', origin='native')\n",
    "myplot.set_cmap('magnetic_field_strength', 'viridis')\n",
    "#myplot.set_cmap('plasma_beta', 'magma')\n",
    "#myplot.annotate_streamlines('mag_field_y', 'mag_field_z', plot_args={'color': 'grey'})\n",
    "\n",
    "seed_points = np.zeros([11,2]) + 1.52\n",
    "seed_points[:,0] = np.linspace(-0.99, 0.95, seed_points.shape[0],\n",
    "                               endpoint=True)\n",
    "\n",
    "#min, max = thisfile.all_data().quantities.extrema(\"magnetic_field_strength\")\n",
    "#norm = mpl.colors.LogNorm(min.value+1e-5, max.value)\n",
    "#myplot.annotate_streamlines('mag_field_y', 'mag_field_z',\n",
    "myplot.annotate_streamlines('mag_field_x', 'mag_field_y',\n",
    "                         #field_color='magnetic_field_strength',\n",
    "                         plot_args={'start_points': seed_points,\n",
    "                                    'density': 15,\n",
    "                                    'cmap': 'plasma', 'linewidth':2,\n",
    "                                    #'norm':norm,\n",
    "                                    'color': 'grey'\n",
    "                                    })\n",
    "myplot.save('/fastdata/sm1ajl/Flux-Surfaces/figs/driverplots/m{}/'.format(l))\n",
    "myplot.show()"
   ]
  },
  {
   "cell_type": "code",
   "execution_count": null,
   "metadata": {
    "collapsed": false
   },
   "outputs": [],
   "source": [
    "myplot = yt.SlicePlot(thisfile, 'x', 'magnetic_field_strength', axes_unit='Mm', origin='native')\n",
    "myplot.set_cmap('magnetic_field_strength', 'plasma')\n",
    "myplot.annotate_streamlines('mag_field_y', 'mag_field_z',\n",
    "                         #field_color='magnetic_field_strength',\n",
    "                         plot_args={'start_points': seed_points,\n",
    "                                    'density': 15,\n",
    "                                    'cmap': 'plasma', 'linewidth':2,\n",
    "                                    'norm':norm,\n",
    "                                    'color': 'grey'\n",
    "                                    })\n",
    "myplot.save('/fastdata/sm1ajl/Flux-Surfaces/figs/driverplots/m{}/'.format(l))\n",
    "myplot.show()"
   ]
  },
  {
   "cell_type": "code",
   "execution_count": null,
   "metadata": {
    "collapsed": false
   },
   "outputs": [],
   "source": [
    "myplot = yt.SlicePlot(thisfile, 'x', 'alfvenspeed', axes_unit='Mm', origin='native')\n",
    "myplot.set_cmap('alfvenspeed', 'viridis')\n",
    "myplot.annotate_streamlines('mag_field_y', 'mag_field_z',\n",
    "                         #field_color='magnetic_field_strength',\n",
    "                         plot_args={'start_points': seed_points,\n",
    "                                    'density': 15,\n",
    "                                    'cmap': 'plasma', 'linewidth':2,\n",
    "                                    'norm':norm,\n",
    "                                    'color': 'grey'\n",
    "                                    })\n",
    "myplot.save('/fastdata/sm1ajl/Flux-Surfaces/figs/driverplots/m{}/'.format(l))\n",
    "myplot.show()"
   ]
  },
  {
   "cell_type": "code",
   "execution_count": null,
   "metadata": {
    "collapsed": false
   },
   "outputs": [],
   "source": [
    "myplot = yt.SlicePlot(thisfile, 'z', 'alfvenspeed', axes_unit='Mm',\n",
    "                     center=[0.0, 0.0, 0.0]*u.Mm)\n",
    "myplot.set_cmap('alfvenspeed', 'viridis')\n",
    "myplot.annotate_quiver('v_x', 'v_y', scale=0.1)\n",
    "myplot.zoom(4)\n",
    "myplot.save('/fastdata/sm1ajl/Flux-Surfaces/figs/driverplots/m{}/'.format(l))\n",
    "myplot.show()"
   ]
  },
  {
   "cell_type": "code",
   "execution_count": null,
   "metadata": {
    "collapsed": false
   },
   "outputs": [],
   "source": [
    "for t in np.arange(0.0, 70.0, 10.0):#2.5):\n",
    "    #myplot = yt.SlicePlot(thisfile, 'z', 'mag_field_z_bg', axes_unit='Mm',\n",
    "    myplot = yt.SlicePlot(thisfile, 'z', 'alfvenspeed', axes_unit='Mm',\n",
    "                         center=[0.0, 0.0, 0.1])\n",
    "    #myplot.set_cmap('mag_field_z_bg', 'coolwarm')\n",
    "    myplot.set_cmap('alfvenspeed', 'viridis')\n",
    "    myplot.annotate_quiver('v_x', 'v_y', scale=0.05)\n",
    "    #myplot.zoom(4)\n",
    "    myplot.show()\n",
    "    #myplot.save('/fastdata/sm1ajl/Flux-Surfaces/figs/driverplots/m{}/{:04}'.format(l, t))\n",
    "    print 'figs/driverplots/m{}/{:04}'.format(l, t), thisfile.all_data().quantities.extrema(\"v_theta\")"
   ]
  },
  {
   "cell_type": "code",
   "execution_count": null,
   "metadata": {
    "collapsed": false
   },
   "outputs": [],
   "source": [
    "#B_sq = (Bx_bg + Bx_p)**2 + (By_bg + By_p)**2 + (Bz_bg + Bx_p)**2\n",
    "#v_A = SQRT(B_sq / (rho_bg + rho_p))\n",
    "#l = 0\n",
    "for m in range(4):\n",
    "    print 'm = ', m\n",
    "    v_A = 1.0\n",
    "    alpha = 1.0\n",
    "    tdep = 1.0\n",
    "\n",
    "    xx = np.linspace(-1.0e6, 1.0e6, 256)\n",
    "    yy = np.linspace(-1.0e6, 1.0e6, 256)\n",
    "    zz = np.linspace(0, 1.6e6, 128)\n",
    "\n",
    "    #x, y, z = np.meshgrid(xx, yy, zz)\n",
    "    x, y = np.meshgrid(xx, yy)\n",
    "\n",
    "    r0 = 0.5e6\n",
    "    r = np.sqrt(x**2 + y**2) / r0\n",
    "    theta = np.arctan2(y, x)\n",
    "\n",
    "    exp_z = 1.0 #np.exp(-(z**2)/(0.05e6**2))\n",
    "    fig, ax = plt.subplots(1, 2, figsize=(24, 12))\n",
    "    fig.patch.set_facecolor('white')\n",
    "\n",
    "    for i, l in enumerate([-m, m]):\n",
    "        print 'm = ', l\n",
    "        u_th = v_A * alpha * r * (1 - r**2) * np.exp(-(r**2)) * np.cos(l * theta)# * tdep * exp_z\n",
    "        u_r = v_A * alpha * l * (r / 2.0) * np.exp(-(r**2)) * np.sin(l * theta)# * tdep * exp_z\n",
    "\n",
    "        ux = ((u_r * np.cos(theta)) - (u_th * np.sin(theta)))[::4, ::4]\n",
    "        uy = ((u_r * np.sin(theta)) + (u_th * np.cos(theta)))[::4, ::4]\n",
    "\n",
    "        u = np.sqrt(ux**2 + uy**2)\n",
    "\n",
    "        ax[i].imshow(u, cmap='gist_gray', origin='lower', extent=[xx[0], xx[-1], yy[0], yy[-1]])\n",
    "        ax[i].quiver(x[::4, ::4], y[::4, ::4], ux, uy, scale=8.0, color='gray')\n",
    "        ax[i].set_title('m = {}'.format(l))\n",
    "    plt.savefig('/fastdata/sm1ajl/Flux-Surfaces/drivershape_m={}'.format(m),\n",
    "               facecolor='white', transparent=False)\n",
    "    plt.close()"
   ]
  },
  {
   "cell_type": "code",
   "execution_count": null,
   "metadata": {
    "collapsed": false
   },
   "outputs": [],
   "source": [
    "#B_sq = (Bx_bg + Bx_p)**2 + (By_bg + By_p)**2 + (Bz_bg + Bx_p)**2\n",
    "#v_A = SQRT(B_sq / (rho_bg + rho_p))\n",
    "#l = 0\n",
    "\n",
    "v_A = 1.0\n",
    "alpha = 1.0\n",
    "tdep = 1.0\n",
    "\n",
    "xx = np.linspace(-1.0e6, 1.0e6, 256)\n",
    "yy = np.linspace(-1.0e6, 1.0e6, 256)\n",
    "zz = np.linspace(0, 1.6e6, 128)\n",
    "\n",
    "x, y = np.meshgrid(xx, yy)\n",
    "ux = np.zeros(x.shape)\n",
    "uy = np.zeros(x.shape)\n",
    "\n",
    "r0 = 0.5e6\n",
    "r = np.sqrt(x**2 + y**2) / r0\n",
    "theta = np.arctan2(y, x)\n",
    "\n",
    "exp_z = 1.0 #np.exp(-(z**2)/(0.05e6**2))\n",
    "\n",
    "\n",
    "for l in range(4):\n",
    "    print 'm = ', l\n",
    "\n",
    "    fig = plt.figure(figsize=(14, 12))\n",
    "\n",
    "    u_th = v_A * alpha * r * (1 - r**2) * np.exp(-(r**2)) * np.cos(l * theta)# * tdep * exp_z\n",
    "    u_r = v_A * alpha * l * (r / 2.0) * np.exp(-(r**2)) * np.sin(l * theta)# * tdep * exp_z\n",
    "\n",
    "    ux += ((u_r * np.cos(theta)) - (u_th * np.sin(theta)))#[::4, ::4]\n",
    "    uy += ((u_r * np.sin(theta)) + (u_th * np.cos(theta)))#[::4, ::4]\n",
    "\n",
    "    u = np.sqrt(ux**2 + uy**2)\n",
    "\n",
    "    plt.imshow(u, cmap='gist_gray', origin='lower', extent=[xx[0], xx[-1], yy[0], yy[-1]])\n",
    "    plt.quiver(x[::4, ::4], y[::4, ::4], ux[::4, ::4], uy[::4, ::4], scale=10.0, color='gray')\n",
    "    plt.savefig('/fastdata/sm1ajl/Flux-Surfaces/sumdrivershape_m={}'.format(l))\n",
    "    plt.close()"
   ]
  },
  {
   "cell_type": "code",
   "execution_count": null,
   "metadata": {
    "collapsed": false
   },
   "outputs": [],
   "source": [
    "fig = plt.figure()\n",
    "plt.plot(r[:, 63], u_th[:, 63] / (v_A * alpha))\n",
    "plt.xlabel('$r/r_0$')\n",
    "plt.ylabel('$v_{th}/a v_A$')\n",
    "plt.show()"
   ]
  }
 ],
 "metadata": {
  "kernelspec": {
   "display_name": "Environment (yt)",
   "language": "",
   "name": "yt"
  },
  "language_info": {
   "codemirror_mode": {
    "name": "ipython",
    "version": 2
   },
   "file_extension": ".py",
   "mimetype": "text/x-python",
   "name": "python",
   "nbconvert_exporter": "python",
   "pygments_lexer": "ipython2",
   "version": "2.7.11"
  }
 },
 "nbformat": 4,
 "nbformat_minor": 0
}
