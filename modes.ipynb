{
 "cells": [
  {
   "cell_type": "code",
   "execution_count": null,
   "metadata": {
    "collapsed": false,
    "slideshow": {
     "slide_type": "-"
    }
   },
   "outputs": [],
   "source": [
    "import pysac.yt\n",
    "#import pysac.analysis.tube3D.process_utils as utils\n",
    "import yt\n",
    "import yt.units as u\n",
    "import numpy as np\n",
    "import matplotlib as mpl\n",
    "import matplotlib.animation as ani\n",
    "import matplotlib.pyplot as plt"
   ]
  },
  {
   "cell_type": "markdown",
   "metadata": {},
   "source": [
    "# Mode m=0"
   ]
  },
  {
   "cell_type": "code",
   "execution_count": null,
   "metadata": {
    "collapsed": false
   },
   "outputs": [],
   "source": [
    "ts = yt.load('/fastdata/sm1ajl/Flux-Surfaces/gdf/m0_p120-0_0-5_0-5/m0_p120-0_0-5_0-5_*.gdf')"
   ]
  },
  {
   "cell_type": "code",
   "execution_count": null,
   "metadata": {
    "collapsed": false
   },
   "outputs": [],
   "source": [
    "for field in ts[0].field_list:\n",
    "    myplot = yt.SlicePlot(ts, 'x', field, axes_unit='Mm')\n",
    "    myplot.set_cmap(field, 'viridis')\n",
    "    myplot.show()"
   ]
  },
  {
   "cell_type": "code",
   "execution_count": null,
   "metadata": {
    "collapsed": false
   },
   "outputs": [],
   "source": [
    "for t in range(0, 600, 1):\n",
    "    slc = yt.SlicePlot(ts[t], 'z', 'density_pert', axes_unit='Mm')#,\n",
    "#                      center=[1.0, 1.0, 0.1]*u.Mm)\n",
    "    slc.set_cmap('density_pert', 'coolwarm')\n",
    "    #slc.set_zlim('density_bg', -1.1e-5, 1.1e-5)\n",
    "    slc.annotate_quiver('velocity_x', 'velocity_y', scale=200000)\n",
    "    slc.show()\n",
    "    #slc.save('figs/width=0-15/density-and-velocity-xy_{:03}'.format(t))"
   ]
  },
  {
   "cell_type": "code",
   "execution_count": null,
   "metadata": {
    "collapsed": false
   },
   "outputs": [],
   "source": [
    "slc = yt.SlicePlot(ts[45], 'x', 'magnetic_field_strength', \n",
    "                   origin='lower-center-window', axes_unit='Mm',\n",
    "                   width=((0.5, 'Mm'), (0.6, 'Mm')))\n",
    "slc.set_cmap('magnetic_field_strength', 'plasma')\n",
    "slc.annotate_contour('velocity_magnitude', 15)\n",
    "#slc.save('B-field-and-vel-mag')\n",
    "slc.show()"
   ]
  },
  {
   "cell_type": "code",
   "execution_count": null,
   "metadata": {
    "collapsed": false
   },
   "outputs": [],
   "source": [
    "for t in range(0, 600, 10):\n",
    "    ds = ts[t]\n",
    "    slc = yt.SlicePlot(ds, 'x', 'density_pert', origin='lower-center-domain',\n",
    "                      axes_unit='Mm')\n",
    "    slc.set_cmap('density_pert', 'viridis')\n",
    "\n",
    "    seed_points = np.zeros([11,2]) + 1.52\n",
    "    seed_points[:,0] = np.linspace(-0.99, 0.95, seed_points.shape[0],\n",
    "                                   endpoint=True)\n",
    "\n",
    "    min, max = ds.all_data().quantities.extrema(\"magnetic_field_strength\")\n",
    "    norm = mpl.colors.LogNorm(min.value+1e-5, max.value)\n",
    "    slc.annotate_streamlines('mag_field_y', 'mag_field_z',\n",
    "                             field_color='magnetic_field_strength',\n",
    "                             plot_args={'start_points': seed_points,\n",
    "                                        'density': 15,\n",
    "                                        'cmap': 'plasma', 'linewidth':2,\n",
    "                                        'norm':norm\n",
    "                                        })\n",
    "\n",
    "    slc.annotate_quiver('velocity_y', 'velocity_z', scale=350000)\n",
    "    #slc.save('figs/width=0-15/density-and-velocity-vs-height_{:03}'.format(t))\n",
    "    slc.show()"
   ]
  },
  {
   "cell_type": "markdown",
   "metadata": {},
   "source": [
    "# Mode m=1"
   ]
  },
  {
   "cell_type": "code",
   "execution_count": null,
   "metadata": {
    "collapsed": false
   },
   "outputs": [],
   "source": [
    "ts = yt.load('/fastdata/sm1ajl/Flux-Surfaces/gdf/m1_p180-0_0-25_0-25/*.gdf')"
   ]
  },
  {
   "cell_type": "code",
   "execution_count": null,
   "metadata": {
    "collapsed": false
   },
   "outputs": [],
   "source": [
    "for t in range(0, 600, 100):\n",
    "    slc = yt.SlicePlot(ts[t], 'z', 'density_pert', axes_unit='Mm',\n",
    "                      center=[1.0, 1.0, 0.1]*u.Mm)\n",
    "    slc.set_cmap('density_pert', 'coolwarm')\n",
    "    slc.set_zlim('density_pert', -1.1e-5, 1.1e-5)\n",
    "    slc.annotate_quiver('velocity_x', 'velocity_y', scale=200000)\n",
    "    slc.show()\n",
    "    #slc.save('figs/width=0-20/density-and-velocity-xy_{:03}'.format(t))"
   ]
  },
  {
   "cell_type": "code",
   "execution_count": null,
   "metadata": {
    "collapsed": false
   },
   "outputs": [],
   "source": [
    "slc = yt.SlicePlot(ts[45], 'x', 'magnetic_field_strength', \n",
    "                   origin='lower-center-window', axes_unit='Mm',\n",
    "                   width=((0.5, 'Mm'), (0.6, 'Mm')))\n",
    "slc.set_cmap('magnetic_field_strength', 'plasma')\n",
    "slc.annotate_contour('velocity_magnitude', 15)\n",
    "#slc.save('B-field-and-vel-mag')\n",
    "slc.show()"
   ]
  },
  {
   "cell_type": "code",
   "execution_count": null,
   "metadata": {
    "collapsed": false
   },
   "outputs": [],
   "source": [
    "for t in range(0, 600, 10):\n",
    "    ds = ts[t]\n",
    "    slc = yt.SlicePlot(ds, 'x', 'density_pert', origin='lower-center-domain',\n",
    "                      axes_unit='Mm')\n",
    "    slc.set_cmap('density_pert', 'viridis')\n",
    "\n",
    "    seed_points = np.zeros([11,2]) + 1.52\n",
    "    seed_points[:,0] = np.linspace(-0.99, 0.95, seed_points.shape[0],\n",
    "                                   endpoint=True)\n",
    "\n",
    "    min, max = ds.all_data().quantities.extrema(\"magnetic_field_strength\")\n",
    "    norm = mpl.colors.LogNorm(min.value+1e-5, max.value)\n",
    "    slc.annotate_streamlines('mag_field_y', 'mag_field_z',\n",
    "                             field_color='magnetic_field_strength',\n",
    "                             plot_args={'start_points': seed_points,\n",
    "                                        'density': 15,\n",
    "                                        'cmap': 'plasma', 'linewidth':2,\n",
    "                                        'norm':norm\n",
    "                                        })\n",
    "\n",
    "    slc.annotate_quiver('velocity_y', 'velocity_z', scale=350000)\n",
    "    #slc.save('figs/width=0-20/density-and-velocity-vs-height_{:03}'.format(t))\n",
    "    slc.show()"
   ]
  },
  {
   "cell_type": "markdown",
   "metadata": {},
   "source": [
    "# Mode m=2"
   ]
  },
  {
   "cell_type": "code",
   "execution_count": null,
   "metadata": {
    "collapsed": false
   },
   "outputs": [],
   "source": [
    "ts = yt.load('/fastdata/sm1ajl/Flux-Surfaces/gdf/m2_p180-0_0-25_0-25/*.gdf')"
   ]
  },
  {
   "cell_type": "code",
   "execution_count": null,
   "metadata": {
    "collapsed": false
   },
   "outputs": [],
   "source": [
    "for t in range(0, 600, 10):\n",
    "    slc = yt.SlicePlot(ts[t], 'z', 'density_pert', axes_unit='Mm',\n",
    "                      center=[1.0, 1.0, 0.1]*u.Mm)\n",
    "    slc.set_zlim('density_pert', -0.5e-5, 0.5e-5)\n",
    "    slc.set_cmap('density_pert', 'coolwarm')\n",
    "    slc.set_log('density_pert', False)\n",
    "    slc.annotate_quiver('velocity_x', 'velocity_y', scale=200000)\n",
    "    #slc.show()\n",
    "    slc.save('figs/width=0-25/density-and-velocity-xy_{:03}'.format(t))"
   ]
  },
  {
   "cell_type": "code",
   "execution_count": null,
   "metadata": {
    "collapsed": false
   },
   "outputs": [],
   "source": [
    "slc = yt.SlicePlot(ts[45], 'x', 'magnetic_field_strength', \n",
    "                   origin='lower-center-window', axes_unit='Mm',\n",
    "                   width=((0.5, 'Mm'), (0.6, 'Mm')))\n",
    "slc.set_cmap('magnetic_field_strength', 'plasma')\n",
    "#slc.set_zlim('magnetic_field_strength',1e-8, 1e-3)\n",
    "slc.annotate_contour('velocity_magnitude', 15)\n",
    "#slc.save('B-field-and-vel-mag')\n",
    "slc.show()"
   ]
  },
  {
   "cell_type": "code",
   "execution_count": null,
   "metadata": {
    "collapsed": false
   },
   "outputs": [],
   "source": [
    "for t in range(0, 600, 10):\n",
    "    ds = ts[t]\n",
    "    slc = yt.SlicePlot(ds, 'x', 'density_pert', origin='lower-center-domain',\n",
    "                      axes_unit='Mm')\n",
    "    slc.set_cmap('density_pert', 'viridis')\n",
    "\n",
    "    seed_points = np.zeros([11,2]) + 1.52\n",
    "    seed_points[:,0] = np.linspace(-0.99, 0.95, seed_points.shape[0],\n",
    "                                   endpoint=True)\n",
    "\n",
    "    min, max = ds.all_data().quantities.extrema(\"magnetic_field_strength\")\n",
    "    norm = mpl.colors.LogNorm(min.value+1e-5, max.value)\n",
    "    slc.annotate_streamlines('mag_field_y', 'mag_field_z',\n",
    "                             field_color='magnetic_field_strength',\n",
    "                             plot_args={'start_points': seed_points,\n",
    "                                        'density': 15,\n",
    "                                        'cmap': 'plasma', 'linewidth':2,\n",
    "                                        'norm':norm\n",
    "                                        })\n",
    "\n",
    "    slc.annotate_quiver('velocity_y', 'velocity_z', scale=350000)\n",
    "    #slc.save('figs/width=0-25/density-and-velocity-vs-height_{:03}'.format(t))\n",
    "    slc.show()"
   ]
  }
 ],
 "metadata": {
  "kernelspec": {
   "display_name": "Environment (yt)",
   "language": "",
   "name": "yt"
  },
  "language_info": {
   "codemirror_mode": {
    "name": "ipython",
    "version": 2
   },
   "file_extension": ".py",
   "mimetype": "text/x-python",
   "name": "python",
   "nbconvert_exporter": "python",
   "pygments_lexer": "ipython2",
   "version": "2.7.11"
  }
 },
 "nbformat": 4,
 "nbformat_minor": 0
}
