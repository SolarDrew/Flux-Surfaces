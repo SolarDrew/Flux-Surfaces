{
 "cells": [
  {
   "cell_type": "code",
   "execution_count": null,
   "metadata": {
    "collapsed": false,
    "slideshow": {
     "slide_type": "-"
    }
   },
   "outputs": [],
   "source": [
    "import pysac.yt\n",
    "import pysac.analysis.tube3D.process_utils as utils\n",
    "import yt\n",
    "import yt.units as u\n",
    "import numpy as np\n",
    "import matplotlib as mpl\n",
    "import matplotlib.animation as ani\n",
    "import matplotlib.pyplot as plt"
   ]
  },
  {
   "cell_type": "markdown",
   "metadata": {},
   "source": [
    "# Width = 0.15 Mm"
   ]
  },
  {
   "cell_type": "code",
   "execution_count": null,
   "metadata": {
    "collapsed": false
   },
   "outputs": [],
   "source": [
    "ts = yt.load('/fastdata/sm1ajl/Flux-Surfaces/gdf/Slog_p180-0_0-15_0-15/*.gdf')"
   ]
  },
  {
   "cell_type": "code",
   "execution_count": null,
   "metadata": {
    "collapsed": false
   },
   "outputs": [],
   "source": [
    "for t in range(0, 600, 100):\n",
    "    slc = yt.SlicePlot(ts[t], 'z', 'density_pert', axes_unit='Mm',\n",
    "                      center=[1.0, 1.0, 0.1]*u.Mm)\n",
    "    slc.set_cmap('density_pert', 'coolwarm')\n",
    "    slc.set_zlim('density_pert', -1.1e-5, 1.1e-5)\n",
    "    slc.annotate_quiver('velocity_x', 'velocity_y', scale=200000)\n",
    "    slc.show()\n",
    "    #slc.save('figs/width=0-15/density-and-velocity-xy_{:03}'.format(t))"
   ]
  },
  {
   "cell_type": "code",
   "execution_count": null,
   "metadata": {
    "collapsed": false
   },
   "outputs": [],
   "source": [
    "slc = yt.SlicePlot(ts[45], 'x', 'magnetic_field_strength', \n",
    "                   origin='lower-center-window', axes_unit='Mm',\n",
    "                   width=((0.5, 'Mm'), (0.6, 'Mm')))\n",
    "slc.set_cmap('magnetic_field_strength', 'plasma')\n",
    "slc.annotate_contour('velocity_magnitude', 15)\n",
    "slc.save('B-field-and-vel-mag')\n",
    "slc.show()"
   ]
  },
  {
   "cell_type": "code",
   "execution_count": null,
   "metadata": {
    "collapsed": false
   },
   "outputs": [],
   "source": [
    "for t in range(0, 600, 10):\n",
    "    ds = ts[t]\n",
    "    slc = yt.SlicePlot(ds, 'x', 'density_pert', origin='lower-center-domain',\n",
    "                      axes_unit='Mm')\n",
    "    slc.set_cmap('density_pert', 'viridis')\n",
    "\n",
    "    seed_points = np.zeros([11,2]) + 1.52\n",
    "    seed_points[:,0] = np.linspace(-0.99, 0.95, seed_points.shape[0],\n",
    "                                   endpoint=True)\n",
    "\n",
    "    min, max = ds.all_data().quantities.extrema(\"magnetic_field_strength\")\n",
    "    norm = mpl.colors.LogNorm(min.value+1e-5, max.value)\n",
    "    slc.annotate_streamlines('mag_field_y', 'mag_field_z',\n",
    "                             field_color='magnetic_field_strength',\n",
    "                             plot_args={'start_points': seed_points,\n",
    "                                        'density': 15,\n",
    "                                        'cmap': 'plasma', 'linewidth':2,\n",
    "                                        'norm':norm\n",
    "                                        })\n",
    "\n",
    "    slc.annotate_quiver('velocity_y', 'velocity_z', scale=350000)\n",
    "    slc.save('figs/width=0-15/density-and-velocity-vs-height_{:03}'.format(t))\n",
    "    #slc.show()"
   ]
  },
  {
   "cell_type": "markdown",
   "metadata": {},
   "source": [
    "# Width = 0.20 Mm"
   ]
  },
  {
   "cell_type": "code",
   "execution_count": null,
   "metadata": {
    "collapsed": false
   },
   "outputs": [],
   "source": [
    "ts = yt.load('/fastdata/sm1ajl/Flux-Surfaces/gdf/Slog_p180-0_0-20_0-20/*.gdf')"
   ]
  },
  {
   "cell_type": "code",
   "execution_count": null,
   "metadata": {
    "collapsed": false
   },
   "outputs": [],
   "source": [
    "for t in range(0, 600, 100):\n",
    "    slc = yt.SlicePlot(ts[t], 'z', 'density_pert', axes_unit='Mm',\n",
    "                      center=[1.0, 1.0, 0.1]*u.Mm)\n",
    "    slc.set_cmap('density_pert', 'coolwarm')\n",
    "    slc.set_zlim('density_pert', -1.1e-5, 1.1e-5)\n",
    "    slc.annotate_quiver('velocity_x', 'velocity_y', scale=200000)\n",
    "    slc.show()\n",
    "    #slc.save('figs/width=0-20/density-and-velocity-xy_{:03}'.format(t))"
   ]
  },
  {
   "cell_type": "code",
   "execution_count": null,
   "metadata": {
    "collapsed": false
   },
   "outputs": [],
   "source": [
    "slc = yt.SlicePlot(ts[45], 'x', 'magnetic_field_strength', \n",
    "                   origin='lower-center-window', axes_unit='Mm',\n",
    "                   width=((0.5, 'Mm'), (0.6, 'Mm')))\n",
    "slc.set_cmap('magnetic_field_strength', 'plasma')\n",
    "slc.annotate_contour('velocity_magnitude', 15)\n",
    "slc.save('B-field-and-vel-mag')\n",
    "slc.show()"
   ]
  },
  {
   "cell_type": "code",
   "execution_count": null,
   "metadata": {
    "collapsed": false
   },
   "outputs": [],
   "source": [
    "for t in range(0, 600, 10):\n",
    "    ds = ts[t]\n",
    "    slc = yt.SlicePlot(ds, 'x', 'density_pert', origin='lower-center-domain',\n",
    "                      axes_unit='Mm')\n",
    "    slc.set_cmap('density_pert', 'viridis')\n",
    "\n",
    "    seed_points = np.zeros([11,2]) + 1.52\n",
    "    seed_points[:,0] = np.linspace(-0.99, 0.95, seed_points.shape[0],\n",
    "                                   endpoint=True)\n",
    "\n",
    "    min, max = ds.all_data().quantities.extrema(\"magnetic_field_strength\")\n",
    "    norm = mpl.colors.LogNorm(min.value+1e-5, max.value)\n",
    "    slc.annotate_streamlines('mag_field_y', 'mag_field_z',\n",
    "                             field_color='magnetic_field_strength',\n",
    "                             plot_args={'start_points': seed_points,\n",
    "                                        'density': 15,\n",
    "                                        'cmap': 'plasma', 'linewidth':2,\n",
    "                                        'norm':norm\n",
    "                                        })\n",
    "\n",
    "    slc.annotate_quiver('velocity_y', 'velocity_z', scale=350000)\n",
    "    slc.save('figs/width=0-20/density-and-velocity-vs-height_{:03}'.format(t))\n",
    "    #slc.show()"
   ]
  },
  {
   "cell_type": "code",
   "execution_count": null,
   "metadata": {
    "collapsed": false
   },
   "outputs": [],
   "source": [
    "dens_1 = utils.yt_to_mlab_vector(ts[50], 'x', 'y', 'z')"
   ]
  },
  {
   "cell_type": "markdown",
   "metadata": {},
   "source": [
    "# Width = 0.25 Mm"
   ]
  },
  {
   "cell_type": "code",
   "execution_count": null,
   "metadata": {
    "collapsed": false
   },
   "outputs": [],
   "source": [
    "ts = yt.load('/fastdata/sm1ajl/Flux-Surfaces/gdf/Slog_p180-0_0-25_0-25/*.gdf')"
   ]
  },
  {
   "cell_type": "code",
   "execution_count": null,
   "metadata": {
    "collapsed": false
   },
   "outputs": [],
   "source": [
    "len(ts)"
   ]
  },
  {
   "cell_type": "markdown",
   "metadata": {
    "collapsed": false
   },
   "source": [
    "```\n",
    "ts = yt.load('/fastdata/sm1ajl/Flux-Surfaces/gdf/jet_p240-0_A0_B005/jet_p240-0_A0_B005_*.gdf')\n",
    "\n",
    "ts[0].field_list\n",
    "\n",
    "[('gdf', 'density_bg'),\n",
    " ('gdf', 'density_pert'),\n",
    " ('gdf', 'internal_energy_bg'),\n",
    " ('gdf', 'internal_energy_pert'),\n",
    " ('gdf', 'mag_field_x_bg'),\n",
    " ('gdf', 'mag_field_x_pert'),\n",
    " ('gdf', 'mag_field_y_bg'),\n",
    " ('gdf', 'mag_field_y_pert'),\n",
    " ('gdf', 'mag_field_z_bg'),\n",
    " ('gdf', 'mag_field_z_pert'),\n",
    " ('gdf', 'velocity_x'),\n",
    " ('gdf', 'velocity_y'),\n",
    " ('gdf', 'velocity_z')]\n",
    "```"
   ]
  },
  {
   "cell_type": "code",
   "execution_count": null,
   "metadata": {
    "collapsed": false
   },
   "outputs": [],
   "source": [
    "for t in range(0, 600, 10):\n",
    "    slc = yt.SlicePlot(ts[t], 'z', 'density_pert', axes_unit='Mm',\n",
    "                      center=[1.0, 1.0, 0.1]*u.Mm)\n",
    "    slc.set_zlim('density_pert', -0.5e-5, 0.5e-5)\n",
    "    slc.set_cmap('density_pert', 'coolwarm')\n",
    "    slc.set_log('density_pert', False)\n",
    "    slc.annotate_quiver('velocity_x', 'velocity_y', scale=200000)\n",
    "    #slc.show()\n",
    "    slc.save('figs/width=0-25/density-and-velocity-xy_{:03}'.format(t))"
   ]
  },
  {
   "cell_type": "code",
   "execution_count": null,
   "metadata": {
    "collapsed": false
   },
   "outputs": [],
   "source": [
    "slc = yt.SlicePlot(ts[45], 'x', 'magnetic_field_strength', \n",
    "                   origin='lower-center-window', axes_unit='Mm',\n",
    "                   width=((0.5, 'Mm'), (0.6, 'Mm')))\n",
    "slc.set_cmap('magnetic_field_strength', 'plasma')\n",
    "#slc.set_zlim('magnetic_field_strength',1e-8, 1e-3)\n",
    "slc.annotate_contour('velocity_magnitude', 15)\n",
    "slc.save('B-field-and-vel-mag')\n",
    "slc.show()"
   ]
  },
  {
   "cell_type": "code",
   "execution_count": null,
   "metadata": {
    "collapsed": false
   },
   "outputs": [],
   "source": [
    "for t in range(0, 600, 10):\n",
    "    ds = ts[t]\n",
    "    slc = yt.SlicePlot(ds, 'x', 'density_pert', origin='lower-center-domain',\n",
    "                      axes_unit='Mm')\n",
    "    slc.set_cmap('density_pert', 'viridis')\n",
    "\n",
    "    seed_points = np.zeros([11,2]) + 1.52\n",
    "    seed_points[:,0] = np.linspace(-0.99, 0.95, seed_points.shape[0],\n",
    "                                   endpoint=True)\n",
    "\n",
    "    min, max = ds.all_data().quantities.extrema(\"magnetic_field_strength\")\n",
    "    norm = mpl.colors.LogNorm(min.value+1e-5, max.value)\n",
    "    slc.annotate_streamlines('mag_field_y', 'mag_field_z',\n",
    "                             field_color='magnetic_field_strength',\n",
    "                             plot_args={'start_points': seed_points,\n",
    "                                        'density': 15,\n",
    "                                        'cmap': 'plasma', 'linewidth':2,\n",
    "                                        'norm':norm\n",
    "                                        })\n",
    "\n",
    "    slc.annotate_quiver('velocity_y', 'velocity_z', scale=350000)\n",
    "    slc.save('figs/width=0-25/density-and-velocity-vs-height_{:03}'.format(t))\n",
    "    #slc.show()"
   ]
  },
  {
   "cell_type": "code",
   "execution_count": null,
   "metadata": {
    "collapsed": false
   },
   "outputs": [],
   "source": [
    "slc = yt.SlicePlot(ts[50], 'x', 'velocity_z', origin='lower-center-domain')\n",
    "slc.set_cmap('velocity_z', 'coolwarm')\n",
    "slc"
   ]
  },
  {
   "cell_type": "markdown",
   "metadata": {},
   "source": [
    "# Width = 0.30 Mm"
   ]
  },
  {
   "cell_type": "code",
   "execution_count": null,
   "metadata": {
    "collapsed": false
   },
   "outputs": [],
   "source": [
    "ts = yt.load('/fastdata/sm1ajl/Flux-Surfaces/gdf/Slog_p180-0_0-30_0-30/*.gdf')"
   ]
  },
  {
   "cell_type": "code",
   "execution_count": null,
   "metadata": {
    "collapsed": false
   },
   "outputs": [],
   "source": [
    "for t in range(0, 600, 100):\n",
    "    slc = yt.SlicePlot(ts[t], 'z', 'density_pert', axes_unit='Mm',\n",
    "                      center=[1.0, 1.0, 0.1]*u.Mm)\n",
    "    slc.set_cmap('density_pert', 'coolwarm')\n",
    "    slc.set_zlim('density_pert', -1.1e-5, 1.1e-5)\n",
    "    slc.annotate_quiver('velocity_x', 'velocity_y', scale=200000)\n",
    "    slc.show()\n",
    "    #slc.save('figs/width=0-30/density-and-velocity-xy_{:03}'.format(t))"
   ]
  },
  {
   "cell_type": "code",
   "execution_count": null,
   "metadata": {
    "collapsed": false
   },
   "outputs": [],
   "source": [
    "slc = yt.SlicePlot(ts[45], 'x', 'magnetic_field_strength', \n",
    "                   origin='lower-center-window', axes_unit='Mm',\n",
    "                   width=((0.5, 'Mm'), (0.6, 'Mm')))\n",
    "slc.set_cmap('magnetic_field_strength', 'plasma')\n",
    "slc.annotate_contour('velocity_magnitude', 15)\n",
    "slc.save('B-field-and-vel-mag')\n",
    "slc.show()"
   ]
  },
  {
   "cell_type": "code",
   "execution_count": null,
   "metadata": {
    "collapsed": false
   },
   "outputs": [],
   "source": [
    "for t in range(0, 600, 10):\n",
    "    ds = ts[t]\n",
    "    slc = yt.SlicePlot(ds, 'x', 'density_pert', origin='lower-center-domain',\n",
    "                      axes_unit='Mm')\n",
    "    slc.set_cmap('density_pert', 'viridis')\n",
    "\n",
    "    seed_points = np.zeros([11,2]) + 1.52\n",
    "    seed_points[:,0] = np.linspace(-0.99, 0.95, seed_points.shape[0],\n",
    "                                   endpoint=True)\n",
    "\n",
    "    min, max = ds.all_data().quantities.extrema(\"magnetic_field_strength\")\n",
    "    norm = mpl.colors.LogNorm(min.value+1e-5, max.value)\n",
    "    slc.annotate_streamlines('mag_field_y', 'mag_field_z',\n",
    "                             field_color='magnetic_field_strength',\n",
    "                             plot_args={'start_points': seed_points,\n",
    "                                        'density': 15,\n",
    "                                        'cmap': 'plasma', 'linewidth':2,\n",
    "                                        'norm':norm\n",
    "                                        })\n",
    "\n",
    "    slc.annotate_quiver('velocity_y', 'velocity_z', scale=350000)\n",
    "    slc.save('figs/width=0-30/density-and-velocity-vs-height_{:03}'.format(t))\n",
    "    #slc.show()"
   ]
  },
  {
   "cell_type": "markdown",
   "metadata": {},
   "source": [
    "# Width = 0.35 Mm"
   ]
  },
  {
   "cell_type": "code",
   "execution_count": null,
   "metadata": {
    "collapsed": false
   },
   "outputs": [],
   "source": [
    "ts = yt.load('/fastdata/sm1ajl/Flux-Surfaces/gdf/Slog_p180-0_0-35_0-35/*.gdf')"
   ]
  },
  {
   "cell_type": "code",
   "execution_count": null,
   "metadata": {
    "collapsed": false
   },
   "outputs": [],
   "source": [
    "for t in range(0, 600, 100):\n",
    "    slc = yt.SlicePlot(ts[t], 'z', 'density_pert', axes_unit='Mm',\n",
    "                      center=[1.0, 1.0, 0.1]*u.Mm)\n",
    "    slc.set_cmap('density_pert', 'coolwarm')\n",
    "    slc.set_zlim('density_pert', -1.1e-5, 1.1e-5)\n",
    "    slc.annotate_quiver('velocity_x', 'velocity_y', scale=200000)\n",
    "    slc.show()\n",
    "    #slc.save('figs/width=0-35/density-and-velocity-xy_{:03}'.format(t))"
   ]
  },
  {
   "cell_type": "code",
   "execution_count": null,
   "metadata": {
    "collapsed": false
   },
   "outputs": [],
   "source": [
    "slc = yt.SlicePlot(ts[45], 'x', 'magnetic_field_strength', \n",
    "                   origin='lower-center-window', axes_unit='Mm',\n",
    "                   width=((0.5, 'Mm'), (0.6, 'Mm')))\n",
    "slc.set_cmap('magnetic_field_strength', 'plasma')\n",
    "slc.annotate_contour('velocity_magnitude', 15)\n",
    "slc.save('B-field-and-vel-mag')\n",
    "slc.show()"
   ]
  },
  {
   "cell_type": "code",
   "execution_count": null,
   "metadata": {
    "collapsed": false
   },
   "outputs": [],
   "source": [
    "for t in range(0, 600, 10):\n",
    "    ds = ts[t]\n",
    "    slc = yt.SlicePlot(ds, 'x', 'density_pert', origin='lower-center-domain',\n",
    "                      axes_unit='Mm')\n",
    "    slc.set_cmap('density_pert', 'viridis')\n",
    "\n",
    "    seed_points = np.zeros([11,2]) + 1.52\n",
    "    seed_points[:,0] = np.linspace(-0.99, 0.95, seed_points.shape[0],\n",
    "                                   endpoint=True)\n",
    "\n",
    "    min, max = ds.all_data().quantities.extrema(\"magnetic_field_strength\")\n",
    "    norm = mpl.colors.LogNorm(min.value+1e-5, max.value)\n",
    "    slc.annotate_streamlines('mag_field_y', 'mag_field_z',\n",
    "                             field_color='magnetic_field_strength',\n",
    "                             plot_args={'start_points': seed_points,\n",
    "                                        'density': 15,\n",
    "                                        'cmap': 'plasma', 'linewidth':2,\n",
    "                                        'norm':norm\n",
    "                                        })\n",
    "\n",
    "    slc.annotate_quiver('velocity_y', 'velocity_z', scale=350000)\n",
    "    slc.save('figs/width=0-35/density-and-velocity-vs-height_{:03}'.format(t))\n",
    "    #slc.show()"
   ]
  },
  {
   "cell_type": "code",
   "execution_count": null,
   "metadata": {
    "collapsed": true
   },
   "outputs": [],
   "source": [
    "import numpy as np"
   ]
  },
  {
   "cell_type": "code",
   "execution_count": null,
   "metadata": {
    "collapsed": true
   },
   "outputs": [],
   "source": [
    "td = np.load('/fastdata/sm1ajl/Flux-Surfaces/data/Slog_p240-0_A10_B005/r30/LineVar_Slog_p240-0_A10_B005_vphi.npy')\n",
    "t = np.load('/fastdata/sm1ajl/Flux-Surfaces/data/Slog_p240-0_A10_B005/Times_Slog_p240-0_A10_B005.npy')"
   ]
  },
  {
   "cell_type": "code",
   "execution_count": null,
   "metadata": {
    "collapsed": false
   },
   "outputs": [],
   "source": [
    "t"
   ]
  },
  {
   "cell_type": "code",
   "execution_count": null,
   "metadata": {
    "collapsed": true
   },
   "outputs": [],
   "source": [
    "%matplotlib inline\n",
    "import matplotlib.pyplot as plt"
   ]
  },
  {
   "cell_type": "code",
   "execution_count": null,
   "metadata": {
    "collapsed": false
   },
   "outputs": [],
   "source": [
    "plt.imshow(td[:,::-1].T,cmap='viridis',origin='lower')"
   ]
  },
  {
   "cell_type": "code",
   "execution_count": null,
   "metadata": {
    "collapsed": true
   },
   "outputs": [],
   "source": [
    "import scripts.sacconfig"
   ]
  },
  {
   "cell_type": "code",
   "execution_count": null,
   "metadata": {
    "collapsed": false
   },
   "outputs": [],
   "source": [
    "cfg = scripts.sacconfig.SACConfig()"
   ]
  },
  {
   "cell_type": "code",
   "execution_count": null,
   "metadata": {
    "collapsed": false
   },
   "outputs": [],
   "source": [
    "cfg.print_config()"
   ]
  },
  {
   "cell_type": "code",
   "execution_count": null,
   "metadata": {
    "collapsed": false
   },
   "outputs": [],
   "source": [
    "cfg.data_dir"
   ]
  },
  {
   "cell_type": "code",
   "execution_count": null,
   "metadata": {
    "collapsed": false
   },
   "outputs": [],
   "source": [
    "cfg.delta_z"
   ]
  }
 ],
 "metadata": {
  "kernelspec": {
   "display_name": "Environment (yt)",
   "language": "",
   "name": "yt"
  },
  "language_info": {
   "codemirror_mode": {
    "name": "ipython",
    "version": 2
   },
   "file_extension": ".py",
   "mimetype": "text/x-python",
   "name": "python",
   "nbconvert_exporter": "python",
   "pygments_lexer": "ipython2",
   "version": "2.7.10"
  }
 },
 "nbformat": 4,
 "nbformat_minor": 0
}
